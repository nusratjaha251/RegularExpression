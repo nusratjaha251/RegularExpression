{
 "cells": [
  {
   "cell_type": "code",
   "execution_count": 9,
   "id": "0e0eda2d-b3ef-4430-8c83-53c8876f30e8",
   "metadata": {},
   "outputs": [
    {
     "name": "stdout",
     "output_type": "stream",
     "text": [
      "Output: Python:Exercises::PHP:exercises:\n"
     ]
    }
   ],
   "source": [
    "import re\n",
    "\n",
    "def que1_repl_chars(text):\n",
    "    result = re.sub(r\"[ ,.]\", \":\", text) # Replacing space, comma, or dot with a colon \n",
    "    return result\n",
    "input = \"Python Exercises, PHP exercises.\" \n",
    "output = replace_characters(input)\n",
    "print(\"Output:\", output) "
   ]
  },
  {
   "cell_type": "code",
   "execution_count": 13,
   "id": "1e951f7a-3b6b-4e12-acb9-c83cfafacd1e",
   "metadata": {},
   "outputs": [
    {
     "name": "stdout",
     "output_type": "stream",
     "text": [
      "       SUMMARY\n",
      "0  hello world\n",
      "1   XXXXX test\n",
      "2     five six\n"
     ]
    }
   ],
   "source": [
    "import pandas as pd\n",
    "import re\n",
    "\n",
    "data = {'SUMMARY': ['hello, world!', 'XXXXX test', '123four, five:; six...']} #this is a dicionary\n",
    "df = pd.DataFrame(data) #this is a dataframe\n",
    "#cleaning function\n",
    "def que2_remove(text):\n",
    "    return ' '.join(re.findall(r'\\b[a-zA-Z]+\\b', text)) \n",
    "df['SUMMARY'] = df['SUMMARY'].apply(que2_remove)\n",
    "print(df)\n"
   ]
  },
  {
   "cell_type": "code",
   "execution_count": 23,
   "id": "206b764a-36e3-442d-9098-d4b52b2d3b8c",
   "metadata": {},
   "outputs": [
    {
     "name": "stdout",
     "output_type": "stream",
     "text": [
      "['four', 'letter', 'word', 'only', 'more', 'letter', 'words', 'displayed', 'this', 'question']\n"
     ]
    }
   ],
   "source": [
    "import re\n",
    "\n",
    "def q3_atleast_four(text):\n",
    "    pattern = re.compile(r'\\b\\w{4,}\\b') #atleast 4 chars\n",
    "    result = pattern.findall(text)\n",
    "    return result\n",
    "\n",
    "text = \"a is not a four letter word, only 4 or more letter words are to be displayed in this question\"\n",
    "long_words = q3_atleast_four(text)\n",
    "print(long_words)\n"
   ]
  },
  {
   "cell_type": "code",
   "execution_count": 25,
   "id": "26d26212-b88e-4ff2-91df-31c277930177",
   "metadata": {},
   "outputs": [
    {
     "name": "stdout",
     "output_type": "stream",
     "text": [
      "['four', 'words', 'more', 'string', 'input', 'giving', 'desired', 'ooutput', 'console']\n"
     ]
    }
   ],
   "source": [
    "import re\n",
    "\n",
    "def que4_long_words(random_texts):\n",
    "    pattern = re.compile(r'\\b\\w{4,}\\b') #compile regex to match words with 4/more chars\n",
    "    long_words = pattern.findall(random_texts) #find all words matching above pattern\n",
    "    return long_words\n",
    "random_texts = \"four words or more is a string input giving desired ooutput in the console\"\n",
    "result = que4_long_words(random_texts)\n",
    "print(result)\n"
   ]
  },
  {
   "cell_type": "code",
   "execution_count": 27,
   "id": "aef72ea5-edcb-4ae7-b193-f93b2a705921",
   "metadata": {},
   "outputs": [
    {
     "name": "stdout",
     "output_type": "stream",
     "text": [
      "example.com\n",
      "hr@fliprobo.com\n",
      "github.com\n",
      "HelloData Science World\n",
      "DataScientist\n"
     ]
    }
   ],
   "source": [
    "import re\n",
    "\n",
    "def q5_remove_parentheses(text_list):\n",
    "    \n",
    "    pattern = re.compile(r'\\s*\\((.*?)\\)\\s*') #compile regex to match () and text in it\n",
    "    cleaned_list = [pattern.sub(r'\\1', text).strip() for text in text_list] #replace matched pattern for each string in given list\n",
    "    return cleaned_list\n",
    "\n",
    "sample_text = [\"example (.com)\", \"hr@fliprobo (.com)\", \"github (.com)\", \"Hello (Data Science World)\", \"Data (Scientist)\"]\n",
    "result = q5_remove_parentheses(sample_text)\n",
    "for item in result:\n",
    "    print(item)\n"
   ]
  },
  {
   "cell_type": "code",
   "execution_count": 29,
   "id": "6b124fda-2b47-4720-a631-c11471364747",
   "metadata": {},
   "outputs": [
    {
     "name": "stdout",
     "output_type": "stream",
     "text": [
      "[\"example\", \"hr@fliprobo\", \"github\", \"Hello\", \"Data\"]\n"
     ]
    }
   ],
   "source": [
    "import re\n",
    "\n",
    "def q6_sample1(text):\n",
    "    \n",
    "    pattern = re.compile(r'\\s*\\(.*?\\)\\s*') #compile regex to match () and text in it\n",
    "    return pattern.sub('', text).strip()\n",
    "\n",
    "def process_file(input_filename):\n",
    "    # reading from sample_text file\n",
    "    with open(input_filename, 'r') as file:\n",
    "        lines = file.readlines()\n",
    "    cleaned_lines = [q6_sample1(line) for line in lines]\n",
    "    return cleaned_lines\n",
    "    \n",
    "input_file = 'sample1.txt'\n",
    "cleaned_content = process_file(input_file)\n",
    "\n",
    "for line in cleaned_content:\n",
    "    print(line)\n"
   ]
  },
  {
   "cell_type": "code",
   "execution_count": 13,
   "id": "d31b686b-5c04-4378-8896-09f515937f3f",
   "metadata": {},
   "outputs": [
    {
     "name": "stdout",
     "output_type": "stream",
     "text": [
      "['Importance', 'Of', 'Regular', 'Expressions', 'In', 'Python']\n"
     ]
    }
   ],
   "source": [
    "import re\n",
    "#ques7\n",
    "text = \"ImportanceOfRegularExpressionsInPython\"\n",
    "result = re.findall(r'[A-Z][a-z]*', text)\n",
    "print(result)\n"
   ]
  },
  {
   "cell_type": "code",
   "execution_count": 35,
   "id": "08e02ddd-bc1e-44b9-9a29-4cce94cf29da",
   "metadata": {},
   "outputs": [
    {
     "name": "stdout",
     "output_type": "stream",
     "text": [
      "RegularExpression 1IsAn 2ImportantTopic 3InPython\n"
     ]
    }
   ],
   "source": [
    "import re\n",
    "\n",
    "def ques8(text):\n",
    "    #inserting spaces before numbers\n",
    "    res = re.sub(r'(\\d)', r' \\1', text)\n",
    "    return res\n",
    "    \n",
    "text = \"RegularExpression1IsAn2ImportantTopic3InPython\"\n",
    "print(ques8(text))\n"
   ]
  },
  {
   "cell_type": "code",
   "execution_count": 37,
   "id": "37dfccd4-4be4-41de-afbe-57fbd861d3c6",
   "metadata": {},
   "outputs": [
    {
     "name": "stdout",
     "output_type": "stream",
     "text": [
      "RegularExpression1 IsAn2 ImportantTopic3 InPython\n"
     ]
    }
   ],
   "source": [
    "import re\n",
    "\n",
    "def ques9(text):\n",
    "    \n",
    "    res = re.sub(r'(?<=\\d)(?=[A-Z])|(?<=\\b[A-Z])(?=[A-Z][a-z])|(?<=\\b[A-Z])(?=\\d)', ' ', text) \n",
    "    return res\n",
    "\n",
    "text = \"RegularExpression1IsAn2ImportantTopic3InPython\"\n",
    "print(ques9(text))\n"
   ]
  },
  {
   "cell_type": "code",
   "execution_count": 39,
   "id": "1d330837-58b8-417f-9ea3-0718dd88f35a",
   "metadata": {},
   "outputs": [
    {
     "name": "stdout",
     "output_type": "stream",
     "text": [
      "       Country          Region  Happiness Rank  Happiness Score  \\\n",
      "0  Switzerland  Western Europe               1            7.587   \n",
      "1      Iceland  Western Europe               2            7.561   \n",
      "2      Denmark  Western Europe               3            7.527   \n",
      "3       Norway  Western Europe               4            7.522   \n",
      "4       Canada   North America               5            7.427   \n",
      "\n",
      "   Standard Error  Economy (GDP per Capita)   Family  \\\n",
      "0         0.03411                   1.39651  1.34951   \n",
      "1         0.04884                   1.30232  1.40223   \n",
      "2         0.03328                   1.32548  1.36058   \n",
      "3         0.03880                   1.45900  1.33095   \n",
      "4         0.03553                   1.32629  1.32261   \n",
      "\n",
      "   Health (Life Expectancy)  Freedom  Trust (Government Corruption)  \\\n",
      "0                   0.94143  0.66557                        0.41978   \n",
      "1                   0.94784  0.62877                        0.14145   \n",
      "2                   0.87464  0.64938                        0.48357   \n",
      "3                   0.88521  0.66973                        0.36503   \n",
      "4                   0.90563  0.63297                        0.32957   \n",
      "\n",
      "   Generosity  Dystopia Residual  \n",
      "0     0.29678            2.51738  \n",
      "1     0.43630            2.70201  \n",
      "2     0.34139            2.49204  \n",
      "3     0.34699            2.46531  \n",
      "4     0.45811            2.45176  \n",
      "       Country          Region  Happiness Rank  Happiness Score  \\\n",
      "0  Switzerland  Western Europe               1            7.587   \n",
      "1      Iceland  Western Europe               2            7.561   \n",
      "2      Denmark  Western Europe               3            7.527   \n",
      "3       Norway  Western Europe               4            7.522   \n",
      "4       Canada   North America               5            7.427   \n",
      "\n",
      "   Standard Error  Economy (GDP per Capita)   Family  \\\n",
      "0         0.03411                   1.39651  1.34951   \n",
      "1         0.04884                   1.30232  1.40223   \n",
      "2         0.03328                   1.32548  1.36058   \n",
      "3         0.03880                   1.45900  1.33095   \n",
      "4         0.03553                   1.32629  1.32261   \n",
      "\n",
      "   Health (Life Expectancy)  Freedom  Trust (Government Corruption)  \\\n",
      "0                   0.94143  0.66557                        0.41978   \n",
      "1                   0.94784  0.62877                        0.14145   \n",
      "2                   0.87464  0.64938                        0.48357   \n",
      "3                   0.88521  0.66973                        0.36503   \n",
      "4                   0.90563  0.63297                        0.32957   \n",
      "\n",
      "   Generosity  Dystopia Residual first_six_letters  \n",
      "0     0.29678            2.51738            Switze  \n",
      "1     0.43630            2.70201            Icelan  \n",
      "2     0.34139            2.49204            Denmar  \n",
      "3     0.34699            2.46531            Norway  \n",
      "4     0.45811            2.45176            Canada  \n"
     ]
    }
   ],
   "source": [
    "import pandas as pd\n",
    "#ques10\n",
    "#reading csv file from github link\n",
    "url = 'https://raw.githubusercontent.com/dsrscientist/DSData/master/happiness_score_dataset.csv'\n",
    "df = pd.read_csv(url)\n",
    "\n",
    "#displaying first few rows of dataframe to understand its structure\n",
    "print(df.head())\n",
    "\n",
    "#extracting first 6 letters of each country and in new column\n",
    "df['first_six_letters'] = df['Country'].str[:6]\n",
    "print(df.head())\n"
   ]
  },
  {
   "cell_type": "code",
   "execution_count": 41,
   "id": "eb8f8168-6119-4b9b-ac65-c78baddb746b",
   "metadata": {},
   "outputs": [
    {
     "name": "stdout",
     "output_type": "stream",
     "text": [
      "'Valid_String123': Valid\n",
      "'Invalid-String!': Invalid\n",
      "'123456': Valid\n",
      "'Invalid StringAnother_Valid1': Invalid\n"
     ]
    }
   ],
   "source": [
    "import re\n",
    "\n",
    "def que11_strings(s):\n",
    "    pattern = r'^[A-Za-z0-9_]+$'\n",
    "    #re.match checks if entire string matches the pattern\n",
    "    return bool(re.match(pattern, s))\n",
    "    \n",
    "strings = [\n",
    "    \"Valid_String123\",  #valid\n",
    "    \"Invalid-String!\",  #invalid\n",
    "    \"123456\",           #valid\n",
    "    \"Invalid String\"    #invalid\n",
    "    \"Another_Valid1\",   #valid\n",
    "]\n",
    "\n",
    "#checking each test string\n",
    "for test in strings:\n",
    "    result = que11_strings(test)\n",
    "    print(f\"'{test}': {'Valid' if result else 'Invalid'}\")\n"
   ]
  },
  {
   "cell_type": "code",
   "execution_count": 45,
   "id": "f7c38ca5-b481-4838-bbcb-05828a3bdef9",
   "metadata": {},
   "outputs": [
    {
     "name": "stdout",
     "output_type": "stream",
     "text": [
      "42 is a number.\n"
     ]
    }
   ],
   "source": [
    "def q12_strnum(number, text):\n",
    "    number_str = str(number)\n",
    "    result_string = number_str + text\n",
    "    return result_string\n",
    "number = 42\n",
    "text = \" is a number.\"\n",
    "result = q12_strnum(number, text)\n",
    "print(result)\n"
   ]
  },
  {
   "cell_type": "code",
   "execution_count": 47,
   "id": "23037dd2-67ff-4e15-9109-183a6f264217",
   "metadata": {},
   "outputs": [
    {
     "name": "stdout",
     "output_type": "stream",
     "text": [
      "Original IP Address: 192.068.001.001\n",
      "New IP Address: 192.68.1.1\n"
     ]
    }
   ],
   "source": [
    "def q13_remove_zeros(ip_address):\n",
    "    #splitting ip adr into octets\n",
    "    octets = ip_address.split('.')\n",
    "    #removing zeroes from each octet\n",
    "    new_octs = [str(int(octet)) for octet in octets]\n",
    "    #joining both parts again\n",
    "    new_ip_adr = '.'.join(new_octs)\n",
    "    return new_ip_adr\n",
    "\n",
    "ip_address = \"192.068.001.001\"\n",
    "new_ip_adr = q13_remove_zeros(ip_address)\n",
    "print(f\"Original IP Address: {ip_address}\")\n",
    "print(f\"New IP Address: {new_ip_adr}\")\n"
   ]
  },
  {
   "cell_type": "code",
   "execution_count": 49,
   "id": "b28b77ed-1f3d-4fad-bfaf-46f791dac37f",
   "metadata": {},
   "outputs": [
    {
     "name": "stdout",
     "output_type": "stream",
     "text": [
      "Extracted Date: August 15th 1947\n"
     ]
    }
   ],
   "source": [
    "import re\n",
    "\n",
    "def q14_sample2(file_path):\n",
    "    #reading from file\n",
    "    with open(file_path, 'r') as file:\n",
    "        text = file.read()\n",
    "    #date pattern\n",
    "    pattern = r'\\b([A-Za-z]+ \\d{1,2}[a-z]{2} \\d{4})\\b'\n",
    "    #searching pattern in text\n",
    "    match = re.search(pattern, text)\n",
    "    if match:\n",
    "        return match.group(0)\n",
    "    else:\n",
    "        return \"Date not found\"\n",
    "file_path = 'sample2.txt'\n",
    "\n",
    "date_string = q14_sample2(file_path)\n",
    "print(f\"Extracted Date: {date_string}\")\n"
   ]
  },
  {
   "cell_type": "code",
   "execution_count": 51,
   "id": "42c995b7-cf9f-4dd6-941c-5e5d26eb0ae6",
   "metadata": {},
   "outputs": [
    {
     "name": "stdout",
     "output_type": "stream",
     "text": [
      "'fox' is found in the text.\n",
      "'dog' is found in the text.\n",
      "'horse' is not found in the text.\n"
     ]
    }
   ],
   "source": [
    "def q15_search_lit(text, search_words):\n",
    "    results = {}\n",
    "    \n",
    "    for word in search_words:\n",
    "        #checking if word is in text\n",
    "        if word in text:\n",
    "            results[word] = True\n",
    "        else:\n",
    "            results[word] = False\n",
    "    return results\n",
    "\n",
    "sample_text = 'The quick brown fox jumps over the lazy dog.'\n",
    "search_words = ['fox', 'dog', 'horse']\n",
    "search_results = q15_search_lit(sample_text, search_words)\n",
    "\n",
    "for word, found in search_results.items():\n",
    "    if found:\n",
    "        print(f\"'{word}' is found in the text.\")\n",
    "    else:\n",
    "        print(f\"'{word}' is not found in the text.\")\n"
   ]
  },
  {
   "cell_type": "code",
   "execution_count": 53,
   "id": "f13914dc-167d-4e57-b33f-acc5487e7bdb",
   "metadata": {},
   "outputs": [
    {
     "name": "stdout",
     "output_type": "stream",
     "text": [
      "'fox' is found at index 16.\n"
     ]
    }
   ],
   "source": [
    "def q16_find_location(text, search_word):\n",
    "    #index of first occurence of word\n",
    "    index = text.find(search_word)\n",
    "    \n",
    "    if index != -1:\n",
    "        return f\"'{search_word}' is found at index {index}.\"\n",
    "    else:\n",
    "        return f\"'{search_word}' is not found in the text.\"\n",
    "\n",
    "sample_text = 'The quick brown fox jumps over the lazy dog.'\n",
    "search_word = 'fox'\n",
    "\n",
    "#searching word and its location\n",
    "result = q16_find_location(sample_text, search_word)\n",
    "print(result)\n"
   ]
  },
  {
   "cell_type": "code",
   "execution_count": 55,
   "id": "d4171065-ff42-4afb-9008-03008b9d2d38",
   "metadata": {},
   "outputs": [
    {
     "name": "stdout",
     "output_type": "stream",
     "text": [
      "Substrings matching \"exercises\": ['exercises', 'exercises', 'exercises']\n"
     ]
    }
   ],
   "source": [
    "def q17_substrings(text, pattern):\n",
    "    start = 0\n",
    "    substrings = []\n",
    "    \n",
    "    while True:\n",
    "        #next occurence of pattern\n",
    "        start = text.find(pattern, start)\n",
    "        if start == -1:\n",
    "            break\n",
    "        end = start + len(pattern)\n",
    "        substrings.append(text[start:end])\n",
    "        start += len(pattern) #moving after the last occurence\n",
    "    return substrings\n",
    "\n",
    "text = 'Python exercises, PHP exercises, C# exercises'\n",
    "pattern = 'exercises'\n",
    "result = q17_substrings(text, pattern)\n",
    "print(f'Substrings matching \"{pattern}\": {result}')\n"
   ]
  },
  {
   "cell_type": "code",
   "execution_count": 57,
   "id": "b8c63e17-369a-435f-b875-95e92e8770d5",
   "metadata": {},
   "outputs": [
    {
     "name": "stdout",
     "output_type": "stream",
     "text": [
      "Pattern \"exercises\" occurs 3 times.\n",
      "Occurrence from position 7 to 16: \"exercises\"\n",
      "Occurrence from position 22 to 31: \"exercises\"\n",
      "Occurrence from position 36 to 45: \"exercises\"\n"
     ]
    }
   ],
   "source": [
    "def q18_occurrence_and_position(text, pattern):\n",
    "    start = 0\n",
    "    occurrences = []\n",
    "    \n",
    "    while True:\n",
    "        #finding next occurence\n",
    "        start = text.find(pattern, start)\n",
    "        if start == -1:\n",
    "            break\n",
    "        end = start + len(pattern)\n",
    "        occurrences.append((start, end))\n",
    "        start += len(pattern) \n",
    "    return occurrences\n",
    "\n",
    "text = 'Python exercises, PHP exercises, C# exercises'\n",
    "pattern = 'exercises'\n",
    "\n",
    "#finding occurences and their positions\n",
    "occurrences = q18_occurrence_and_position(text, pattern)\n",
    "\n",
    "print(f'Pattern \"{pattern}\" occurs {len(occurrences)} times.')\n",
    "for start, end in occurrences:\n",
    "    print(f'Occurrence from position {start} to {end}: \"{text[start:end]}\"')\n"
   ]
  },
  {
   "cell_type": "code",
   "execution_count": 59,
   "id": "50607bcd-c09b-4524-8b32-e26c7a3b4217",
   "metadata": {},
   "outputs": [
    {
     "name": "stdout",
     "output_type": "stream",
     "text": [
      "Original date: 2024-08-24\n",
      "Converted date: 24-08-2024\n"
     ]
    }
   ],
   "source": [
    "from datetime import datetime\n",
    "\n",
    "def q19convert_date(date_str):\n",
    "    #parsing yyyy-mm-dd format\n",
    "    date_obj = datetime.strptime(date_str, '%Y-%m-%d')\n",
    "    #converting to dd-mm-yyyy format\n",
    "    new_date_str = date_obj.strftime('%d-%m-%Y')\n",
    "    return new_date_str\n",
    "    \n",
    "date_str = '2024-08-24'\n",
    "converted_date = q19convert_date(date_str)\n",
    "\n",
    "print(f'Original date: {date_str}')\n",
    "print(f'Converted date: {converted_date}')\n"
   ]
  },
  {
   "cell_type": "code",
   "execution_count": 61,
   "id": "84b136db-7746-4ac5-b2d2-88666ddad3ea",
   "metadata": {},
   "outputs": [
    {
     "name": "stdout",
     "output_type": "stream",
     "text": [
      "['01.12', '145.8', '3.01', '27.25', '0.25']\n"
     ]
    }
   ],
   "source": [
    "import re\n",
    "\n",
    "def q20_precision(text):\n",
    "    pattern = re.compile(r'\\b\\d*\\.\\d{1,2}\\b') #decimal till 1-2 places only\n",
    "    matches = pattern.findall(text)\n",
    "    return matches\n",
    "\n",
    "text = \"01.12 0132.123 2.31875 145.8 3.01 27.25 0.25\"\n",
    "result = q20_precision(text)\n",
    "print(result)\n"
   ]
  },
  {
   "cell_type": "code",
   "execution_count": 63,
   "id": "9055f1da-7a58-4072-bad4-0cc732c72301",
   "metadata": {},
   "outputs": [
    {
     "name": "stdout",
     "output_type": "stream",
     "text": [
      "Number: 10.50, Position: 15\n",
      "Number: 22, Position: 22\n",
      "Number: 300.25, Position: 30\n"
     ]
    }
   ],
   "source": [
    "import re\n",
    "\n",
    "def q21_num_pos(text):\n",
    "\n",
    "    pattern = re.compile(r'\\b\\d+\\.?\\d*\\b') #matching nums\n",
    "    matches = [(match.start(), match.group()) for match in pattern.finditer(text)] #find match and pos\n",
    "    return matches\n",
    "\n",
    "text = \"The prices are 10.50, 22, and 300.25 in the list.\"\n",
    "results = q21_num_pos(text)\n",
    "for position, number in results:\n",
    "    print(f'Number: {number}, Position: {position}')\n"
   ]
  },
  {
   "cell_type": "code",
   "execution_count": 67,
   "id": "49b280d5-1c29-4443-b73e-147e48cc8911",
   "metadata": {},
   "outputs": [
    {
     "name": "stdout",
     "output_type": "stream",
     "text": [
      "950\n"
     ]
    }
   ],
   "source": [
    "import re\n",
    "\n",
    "def q22_largest(text):\n",
    "\n",
    "    numbers = re.findall(r'\\b\\d+\\b', text) #finding all num values in str\n",
    "    numbers = [int(num) for num in numbers] #str to int\n",
    "    return max(numbers)\n",
    "\n",
    "text = 'My marks in each semester are: 947, 896, 926, 524, 734, 950, 642'\n",
    "largest_number = q22_largest(text)\n",
    "print(largest_number)\n"
   ]
  },
  {
   "cell_type": "code",
   "execution_count": 69,
   "id": "7645d170-1097-4a5c-9ba8-103b08ed07b2",
   "metadata": {},
   "outputs": [
    {
     "name": "stdout",
     "output_type": "stream",
     "text": [
      "Regular Expression Is An Important Topic In Python\n"
     ]
    }
   ],
   "source": [
    "import re\n",
    "\n",
    "def q23_caps_spaces(text):\n",
    "    \n",
    "    result = re.sub(r'([a-z])([A-Z])', r'\\1 \\2', text) #add space before capital letters\n",
    "    return result\n",
    "\n",
    "text = \"RegularExpressionIsAnImportantTopicInPython\"\n",
    "formatted_text = q23_caps_spaces(text)\n",
    "print(formatted_text)\n"
   ]
  },
  {
   "cell_type": "code",
   "execution_count": 73,
   "id": "78636ec2-53c8-48fc-bfe0-dce5de3eeb66",
   "metadata": {},
   "outputs": [
    {
     "name": "stdout",
     "output_type": "stream",
     "text": [
      "['This', 'Assignment', 'Regular', 'Expression']\n"
     ]
    }
   ],
   "source": [
    "import re\n",
    "def q24(text):\n",
    "\n",
    "    pattern = r'[A-Z][a-z]+' #matching one uppercase with lowercase\n",
    "    matches = re.findall(pattern, text)\n",
    "    return matches\n",
    "\n",
    "text = \"This Assignment is on RegularExpression.\"\n",
    "sequences = q24(text)\n",
    "print(sequences)\n"
   ]
  },
  {
   "cell_type": "code",
   "execution_count": 77,
   "id": "b01598bf-4961-4e5f-9065-9d15aebd4558",
   "metadata": {},
   "outputs": [
    {
     "name": "stdout",
     "output_type": "stream",
     "text": [
      "Hello hello world\n"
     ]
    }
   ],
   "source": [
    "import re\n",
    "\n",
    "def q25_remove_duplicates(text):\n",
    "\n",
    "    pattern = r'\\b(\\w+)( \\1)+\\b' #matching consecutive duplicate words\n",
    "    result = re.sub(pattern, r'\\1', text) #substitution\n",
    "    return result\n",
    "\n",
    "text = \"Hello hello world world\"\n",
    "output = q25_remove_duplicates(text)\n",
    "print(output)\n"
   ]
  },
  {
   "cell_type": "code",
   "execution_count": 91,
   "id": "b2a2b464-cd7d-41c4-9b12-a58e2be5ecf7",
   "metadata": {},
   "outputs": [
    {
     "name": "stdout",
     "output_type": "stream",
     "text": [
      "\"onetwothree123\" is alphanumeric.\n",
      "\"hello world!\" is not alphanumeric.\n",
      "\"Python3 \" is not alphanumeric.\n",
      "\"alpha39564nums\" is alphanumeric.\n"
     ]
    }
   ],
   "source": [
    "import re\n",
    "\n",
    "def q26_alphanum(text):\n",
    "    \n",
    "    pattern = r'.*[a-zA-Z0-9]$' #checks if str ending with alphanumeric chars\n",
    "    if re.match(pattern, text): #checks if str matching the pattern\n",
    "        return True\n",
    "    else:\n",
    "        return False\n",
    "\n",
    "strings = [\n",
    "    \"onetwothree123\",\n",
    "    \"hello world!\",\n",
    "    \"Python3 \",\n",
    "    \"alpha39564nums\"\n",
    "]\n",
    "for s in strings:\n",
    "    if q26_alphanum(s):\n",
    "        print(f'\"{s}\" is alphanumeric.')\n",
    "    else:\n",
    "        print(f'\"{s}\" is not alphanumeric.')\n"
   ]
  },
  {
   "cell_type": "code",
   "execution_count": 93,
   "id": "fc8c1df5-186c-4125-8574-550e786b3177",
   "metadata": {},
   "outputs": [
    {
     "name": "stdout",
     "output_type": "stream",
     "text": [
      "['#Doltiwal', '#xyzabc', '#Demonetization']\n"
     ]
    }
   ],
   "source": [
    "import re\n",
    "\n",
    "def q27_hashtags(text):\n",
    "\n",
    "    pattern = r'#\\w+' #matchinng hashtags\n",
    "    hashtags = re.findall(pattern, text)\n",
    "    return hashtags\n",
    "\n",
    "text = \"\"\"RT @kapil_kausik: #Doltiwal I mean #xyzabc is \"hurt\" by #Demonetization as the same has rendered USELESS <ed><U+00A0><U+00BD><ed><U+00B1><U+0089> \"acquired funds\" No wo\"\"\"\n",
    "hashtags = q27_hashtags(text)\n",
    "print(hashtags)\n"
   ]
  },
  {
   "cell_type": "code",
   "execution_count": 97,
   "id": "5bdbcb74-0d95-43a8-87d3-2fc5aff606e7",
   "metadata": {},
   "outputs": [
    {
     "name": "stdout",
     "output_type": "stream",
     "text": [
      "@Jags123456 Bharat band on 28??<ed><ed>Those who are protesting #demonetization are all different party leaders\n"
     ]
    }
   ],
   "source": [
    "import re\n",
    "\n",
    "def q28_remove_symbol(text):\n",
    "    \n",
    "    pattern = r'<U\\+\\w{4}>' #matching <U+..> symbol\n",
    "    new_text = re.sub(pattern, '', text)\n",
    "    return new_text\n",
    "\n",
    "text = \"@Jags123456 Bharat band on 28??<ed><U+00A0><U+00BD><ed><U+00B8><U+0082>Those who are protesting #demonetization are all different party leaders\"\n",
    "output = q28_remove_symbol(text)\n",
    "print(output)\n"
   ]
  },
  {
   "cell_type": "code",
   "execution_count": 101,
   "id": "c0b3f8f3-1f8d-4834-a91d-9a74d3f44b12",
   "metadata": {},
   "outputs": [
    {
     "name": "stdout",
     "output_type": "stream",
     "text": [
      "Extracted dates: ['12-09-1992', '15-12-1999']\n"
     ]
    }
   ],
   "source": [
    "import re\n",
    "\n",
    "def q29_sample3(file_path):\n",
    "    \n",
    "    with open(file_path, 'r') as file: #opening and reading file content\n",
    "        text = file.read()\n",
    "\n",
    "    date_pattern = r'\\b\\d{2}-\\d{2}-\\d{4}\\b' #date format as dd-mm-yyyy\n",
    "    dates = re.findall(date_pattern, text)\n",
    "    return dates\n",
    "\n",
    "file_path = 'sample3.txt'\n",
    "extracted_dates = q29_sample3(file_path)\n",
    "print(\"Extracted dates:\", extracted_dates)\n"
   ]
  },
  {
   "cell_type": "code",
   "execution_count": 105,
   "id": "21fcb4f5-2f40-4c35-a6a2-feb2838c7fda",
   "metadata": {},
   "outputs": [
    {
     "name": "stdout",
     "output_type": "stream",
     "text": [
      "following example creates ArrayList a capacity elements. 4 elements added ArrayList ArrayList trimmed accordingly.\n"
     ]
    }
   ],
   "source": [
    "import re\n",
    "\n",
    "def q30_2to4(text):\n",
    "    \n",
    "    pattern = re.compile(r'\\b\\w{2,4}\\b') #matching words with 2-4 chars\n",
    "    result = pattern.sub('', text) #replace matching words with empty str\n",
    "    result = re.sub(r'\\s{2,}', ' ', result).strip() #remove extra spaces \n",
    "    return result\n",
    "\n",
    "sample_text = (\"The following example creates an ArrayList with a capacity of 50 elements. \"\n",
    "               \"4 elements are then added to the ArrayList and the ArrayList is trimmed accordingly.\")\n",
    "output = q30_2to4(sample_text)\n",
    "print(output)\n"
   ]
  }
 ],
 "metadata": {
  "kernelspec": {
   "display_name": "Python 3 (ipykernel)",
   "language": "python",
   "name": "python3"
  },
  "language_info": {
   "codemirror_mode": {
    "name": "ipython",
    "version": 3
   },
   "file_extension": ".py",
   "mimetype": "text/x-python",
   "name": "python",
   "nbconvert_exporter": "python",
   "pygments_lexer": "ipython3",
   "version": "3.11.7"
  }
 },
 "nbformat": 4,
 "nbformat_minor": 5
}
